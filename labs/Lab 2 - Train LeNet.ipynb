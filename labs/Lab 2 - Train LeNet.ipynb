{
 "cells": [
  {
   "cell_type": "markdown",
   "metadata": {
    "id": "HVQuq23Q9Hyo"
   },
   "source": [
    "# Training our first Convolutional Neural Network\n",
    "\n",
    "With this notebook we are going to build and train our first Convolutional Neural Network (CNN). In particular, we will borrow the architecture proposed as [LeNet](https://ieeexplore.ieee.org/document/726791)."
   ]
  },
  {
   "cell_type": "markdown",
   "metadata": {
    "id": "accaY1dy-cs-"
   },
   "source": [
    "\n",
    "<img src=\"https://drive.google.com/uc?export=view&id=1BimodSCOzNtpy76yE4QjJ5aCtsEzNNfX\" width=\"900\"></br></br>"
   ]
  },
  {
   "cell_type": "markdown",
   "metadata": {
    "id": "VtZwK8aDBxmK"
   },
   "source": [
    "We start, as usual, by importing the necessary libraries."
   ]
  },
  {
   "cell_type": "code",
   "execution_count": null,
   "metadata": {},
   "outputs": [],
   "source": [
    "import torch\n",
    "import torchvision\n",
    "from torchvision import transforms as T\n",
    "import torch.nn.functional as F"
   ]
  },
  {
   "cell_type": "markdown",
   "metadata": {
    "id": "TLLNs9dy9pAM"
   },
   "source": [
    "## LeNet-5\n",
    "\n",
    "In order to build this model, we are going to need some **convolutional** and some **fully connected** layers. The former can be easily defined by exploiting the `torch.nn.Conv2D` module from PyTorch. Remember you can always take a look at the [documentation](https://pytorch.org/docs/stable/generated/torch.nn.Conv2d.html)! We will also be using pooling operations (Max Pooling) to reduce the size of the feature maps. In particular, we are going to use the `torch.nn.functional.max_pool2d` module (details can be found, as usual, in the [docs](https://pytorch.org/docs/stable/generated/torch.nn.MaxPool2d.html)). Furthermore, for this model we are going to need the Rectified Linear Unit (ReLU) activation, available in the `torch.nn.functional.relu` module (details [here](https://pytorch.org/docs/stable/generated/torch.nn.functional.relu.html#torch.nn.functional.relu))."
   ]
  },
  {
   "cell_type": "code",
   "execution_count": null,
   "metadata": {},
   "outputs": [],
   "source": [
    "class LeNet(torch.nn.Module):\n",
    "    def __init__(self):\n",
    "        super().__init__()\n",
    "\n",
    "        # input channel = 1, output channels = 6, kernel size = 5\n",
    "        # input image size = (28, 28), image output size = (24, 24)\n",
    "        self.conv1 = torch.nn.Conv2d(in_channels=1, out_channels=6, kernel_size=(5, 5))\n",
    "\n",
    "        # input channel = 6, output channels = 16, kernel size = 5\n",
    "        # input image size = (12, 12), output image size = (8, 8)\n",
    "        self.conv2 = torch.nn.Conv2d(in_channels=6, out_channels=16, kernel_size=(5, 5))\n",
    "\n",
    "        # input dim = 4 * 4 * 16 ( H x W x C), output dim = 120\n",
    "        self.fc3 = torch.nn.Linear(in_features=4 * 4 * 16, out_features=120)\n",
    "\n",
    "        # input dim = 120, output dim = 84\n",
    "        self.fc4 = torch.nn.Linear(in_features=120, out_features=84)\n",
    "\n",
    "        # input dim = 84, output dim = 10\n",
    "        self.fc5 = torch.nn.Linear(in_features=84, out_features=10)\n",
    "\n",
    "    def forward(self, x):\n",
    "        # first convolutional layer + relu\n",
    "        x = self.conv1(x)\n",
    "        x = F.relu(x)\n",
    "\n",
    "        # Max Pooling with kernel size = 2\n",
    "        # output size = (12, 12)\n",
    "        x = F.max_pool2d(x, kernel_size=2)\n",
    "\n",
    "        # second convolutional layer + relu\n",
    "        x = self.conv2(x)\n",
    "        x = F.relu(x)\n",
    "\n",
    "        # Max Pooling with kernel size = 2\n",
    "        # output size = (4, 4)\n",
    "        x = F.max_pool2d(x, kernel_size=2)\n",
    "\n",
    "        # flatten the feature maps into a long vector (-> (bs, 4*4*16))\n",
    "        x = x.view(x.shape[0], -1)\n",
    "\n",
    "        # first linear layer + relu\n",
    "        x = self.fc3(x)\n",
    "        x = F.relu(x)\n",
    "\n",
    "        # second linear layer + relu\n",
    "        x = self.fc4(x)\n",
    "        x = F.relu(x)\n",
    "\n",
    "        # output layer (linear)\n",
    "        x = self.fc5(x)\n",
    "\n",
    "        return x"
   ]
  },
  {
   "cell_type": "markdown",
   "metadata": {
    "id": "obE13C39_2g1"
   },
   "source": [
    "## Optimizer & cost function\n",
    "We are going to use the familiar [Stochastic Gradient Descent (SGD)](https://pytorch.org/docs/stable/generated/torch.optim.SGD.html) optimizer and the [Cross Entropy Loss](https://pytorch.org/docs/stable/generated/torch.nn.CrossEntropyLoss.html) for our optimization."
   ]
  },
  {
   "cell_type": "code",
   "execution_count": null,
   "metadata": {},
   "outputs": [],
   "source": [
    "def get_cost_function():\n",
    "    cost_function = torch.nn.CrossEntropyLoss()\n",
    "    return cost_function\n",
    "\n",
    "\n",
    "def get_optimizer(net, lr, wd, momentum):\n",
    "    optimizer = torch.optim.SGD(\n",
    "        net.parameters(), lr=lr, weight_decay=wd, momentum=momentum\n",
    "    )\n",
    "    return optimizer"
   ]
  },
  {
   "cell_type": "markdown",
   "metadata": {
    "id": "qV2v8x0ZBG8y"
   },
   "source": [
    "## Training and test steps\n",
    "We are going to implement our training and test pipelines as discussed in the previous lab sessions."
   ]
  },
  {
   "cell_type": "code",
   "execution_count": null,
   "metadata": {},
   "outputs": [],
   "source": [
    "def training_step(net, data_loader, optimizer, cost_function, device=\"cuda\"):\n",
    "    samples = 0.0\n",
    "    cumulative_loss = 0.0\n",
    "    cumulative_accuracy = 0.0\n",
    "\n",
    "    # set the network to training mode\n",
    "    net.train()\n",
    "\n",
    "    # iterate over the training set\n",
    "    for batch_idx, (inputs, targets) in enumerate(data_loader):\n",
    "        # load data into GPU\n",
    "        inputs = inputs.to(device)\n",
    "        targets = targets.to(device)\n",
    "\n",
    "        # forward pass\n",
    "        outputs = net(inputs)\n",
    "\n",
    "        # loss computation\n",
    "        loss = cost_function(outputs, targets)\n",
    "\n",
    "        # backward pass\n",
    "        loss.backward()\n",
    "\n",
    "        # parameters update\n",
    "        optimizer.step()\n",
    "\n",
    "        # gradients reset\n",
    "        optimizer.zero_grad()\n",
    "\n",
    "        # fetch prediction and loss value\n",
    "        samples += inputs.shape[0]\n",
    "        cumulative_loss += loss.item()\n",
    "        _, predicted = outputs.max(\n",
    "            dim=1\n",
    "        )  # max() returns (maximum_value, index_of_maximum_value)\n",
    "\n",
    "        # compute training accuracy\n",
    "        cumulative_accuracy += predicted.eq(targets).sum().item()\n",
    "\n",
    "    return cumulative_loss / samples, cumulative_accuracy / samples * 100\n",
    "\n",
    "\n",
    "def test_step(net, data_loader, cost_function, device=\"cuda\"):\n",
    "    samples = 0.0\n",
    "    cumulative_loss = 0.0\n",
    "    cumulative_accuracy = 0.0\n",
    "\n",
    "    # set the network to evaluation mode\n",
    "    net.eval()\n",
    "\n",
    "    # disable gradient computation (we are only testing, we do not want our model to be modified in this step!)\n",
    "    with torch.no_grad():\n",
    "        # iterate over the test set\n",
    "        for batch_idx, (inputs, targets) in enumerate(data_loader):\n",
    "            # load data into GPU\n",
    "            inputs = inputs.to(device)\n",
    "            targets = targets.to(device)\n",
    "\n",
    "            # forward pass\n",
    "            outputs = net(inputs)\n",
    "\n",
    "            # loss computation\n",
    "            loss = cost_function(outputs, targets)\n",
    "\n",
    "            # fetch prediction and loss value\n",
    "            samples += inputs.shape[0]\n",
    "            cumulative_loss += (\n",
    "                loss.item()\n",
    "            )  # Note: the .item() is needed to extract scalars from tensors\n",
    "            _, predicted = outputs.max(1)\n",
    "\n",
    "            # compute accuracy\n",
    "            cumulative_accuracy += predicted.eq(targets).sum().item()\n",
    "\n",
    "    return cumulative_loss / samples, cumulative_accuracy / samples * 100"
   ]
  },
  {
   "cell_type": "markdown",
   "metadata": {
    "id": "-xaALwsMD2vj"
   },
   "source": [
    "## Data loading\n",
    "In this block we are going to define our **data loading** utility. Differently from last time, in this case we are going to introduce **normalization**. This step is needed in order **bound** our values to the `[-1,1]` range, and obtain a **stable** training process for our network. This can be achieved by using the `torchvision.transforms.Normalize()` module (details [here](https://pytorch.org/vision/main/generated/torchvision.transforms.Normalize.html))."
   ]
  },
  {
   "cell_type": "code",
   "execution_count": null,
   "metadata": {},
   "outputs": [],
   "source": [
    "def get_data(batch_size, test_batch_size=256):\n",
    "    # prepare data transformations and then combine them sequentially\n",
    "    transform = list()\n",
    "    transform.append(T.ToTensor())  # convert Numpy to Pytorch Tensor\n",
    "    transform.append(\n",
    "        T.Normalize(mean=[0.5], std=[0.5])\n",
    "    )  # normalize the Tensors between [-1, 1]\n",
    "    transform = T.Compose(transform)  # compose the above transformations into one\n",
    "\n",
    "    # load data\n",
    "    full_training_data = torchvision.datasets.MNIST(\n",
    "        \"./data\", train=True, transform=transform, download=True\n",
    "    )\n",
    "    test_data = torchvision.datasets.MNIST(\n",
    "        \"./data\", train=False, transform=transform, download=True\n",
    "    )\n",
    "\n",
    "    # create train and validation splits\n",
    "    num_samples = len(full_training_data)\n",
    "    training_samples = int(num_samples * 0.5 + 1)\n",
    "    validation_samples = num_samples - training_samples\n",
    "\n",
    "    training_data, validation_data = torch.utils.data.random_split(\n",
    "        full_training_data, [training_samples, validation_samples]\n",
    "    )\n",
    "\n",
    "    # initialize dataloaders\n",
    "    train_loader = torch.utils.data.DataLoader(\n",
    "        training_data, batch_size, shuffle=True, num_workers=4\n",
    "    )\n",
    "    val_loader = torch.utils.data.DataLoader(\n",
    "        validation_data, test_batch_size, shuffle=False, num_workers=4\n",
    "    )\n",
    "    test_loader = torch.utils.data.DataLoader(\n",
    "        test_data, test_batch_size, shuffle=False, num_workers=4\n",
    "    )\n",
    "\n",
    "    return train_loader, val_loader, test_loader"
   ]
  },
  {
   "cell_type": "markdown",
   "metadata": {
    "id": "APuCISvfCrP6"
   },
   "source": [
    "## Put it all together!\n",
    "We are now ready to combine all the ingredients defined so far into our **training procedure**. We define a main function that **initializes** everything, **trains** the model over multiple epochs and **logs** the results."
   ]
  },
  {
   "cell_type": "code",
   "execution_count": null,
   "metadata": {},
   "outputs": [],
   "source": [
    "\"\"\"\n",
    "Input arguments\n",
    "  batch_size: size of a mini-batch\n",
    "  device: GPU where you want to train your network\n",
    "  weight_decay: weight decay co-efficient for regularization of weights\n",
    "  momentum: momentum for SGD optimizer\n",
    "  epochs: number of epochs for training the network\n",
    "\"\"\"\n",
    "\n",
    "\n",
    "def main(\n",
    "    batch_size=128,\n",
    "    device=\"cuda:0\",\n",
    "    learning_rate=0.01,\n",
    "    weight_decay=0.000001,\n",
    "    momentum=0.9,\n",
    "    epochs=25,\n",
    "):\n",
    "    # get dataloaders\n",
    "    train_loader, val_loader, test_loader = get_data(batch_size)\n",
    "\n",
    "    # instantiate model and send it to cuda device\n",
    "    net = LeNet().to(device)\n",
    "\n",
    "    # instatiate optimizer and cost function\n",
    "    optimizer = get_optimizer(net, learning_rate, weight_decay, momentum)\n",
    "    cost_function = get_cost_function()\n",
    "\n",
    "    # run a single test step beforehand and print metrics\n",
    "    print(\"Before training:\")\n",
    "    train_loss, train_accuracy = test_step(net, train_loader, cost_function)\n",
    "    val_loss, val_accuracy = test_step(net, val_loader, cost_function)\n",
    "    test_loss, test_accuracy = test_step(net, test_loader, cost_function)\n",
    "\n",
    "    print(\n",
    "        \"\\tTraining loss {:.5f}, Training accuracy {:.2f}\".format(\n",
    "            train_loss, train_accuracy\n",
    "        )\n",
    "    )\n",
    "    print(\n",
    "        \"\\tValidation loss {:.5f}, Validation accuracy {:.2f}\".format(\n",
    "            val_loss, val_accuracy\n",
    "        )\n",
    "    )\n",
    "    print(\"\\tTest loss {:.5f}, Test accuracy {:.2f}\".format(test_loss, test_accuracy))\n",
    "    print(\"-----------------------------------------------------\")\n",
    "\n",
    "    # iterate over the number of epochs\n",
    "    for e in range(epochs):\n",
    "        # train & log\n",
    "        train_loss, train_accuracy = training_step(\n",
    "            net, train_loader, optimizer, cost_function\n",
    "        )\n",
    "        val_loss, val_accuracy = test_step(net, val_loader, cost_function)\n",
    "        print(\"Epoch: {:d}\".format(e + 1))\n",
    "        print(\n",
    "            \"\\tTraining loss {:.5f}, Training accuracy {:.2f}\".format(\n",
    "                train_loss, train_accuracy\n",
    "            )\n",
    "        )\n",
    "        print(\n",
    "            \"\\tValidation loss {:.5f}, Validation accuracy {:.2f}\".format(\n",
    "                val_loss, val_accuracy\n",
    "            )\n",
    "        )\n",
    "        print(\"-----------------------------------------------------\")\n",
    "\n",
    "    # compute and print final metrics\n",
    "    print(\"After training:\")\n",
    "    train_loss, train_accuracy = test_step(net, train_loader, cost_function)\n",
    "    val_loss, val_accuracy = test_step(net, val_loader, cost_function)\n",
    "    test_loss, test_accuracy = test_step(net, test_loader, cost_function)\n",
    "\n",
    "    print(\n",
    "        \"\\tTraining loss {:.5f}, Training accuracy {:.2f}\".format(\n",
    "            train_loss, train_accuracy\n",
    "        )\n",
    "    )\n",
    "    print(\n",
    "        \"\\tValidation loss {:.5f}, Validation accuracy {:.2f}\".format(\n",
    "            val_loss, val_accuracy\n",
    "        )\n",
    "    )\n",
    "    print(\"\\tTest loss {:.5f}, Test accuracy {:.2f}\".format(test_loss, test_accuracy))\n",
    "    print(\"-----------------------------------------------------\")"
   ]
  },
  {
   "cell_type": "markdown",
   "metadata": {
    "id": "wGxHI0uxFCI0"
   },
   "source": [
    "## Run!"
   ]
  },
  {
   "cell_type": "code",
   "execution_count": null,
   "metadata": {},
   "outputs": [],
   "source": [
    "main()"
   ]
  }
 ],
 "metadata": {
  "language_info": {
   "name": "python"
  }
 },
 "nbformat": 4,
 "nbformat_minor": 0
}
