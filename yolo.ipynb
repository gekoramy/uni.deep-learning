{
  "nbformat": 4,
  "nbformat_minor": 0,
  "metadata": {
    "colab": {
      "provenance": [],
      "authorship_tag": "ABX9TyNSMszEOXMtZQgZhhJWwFD1",
      "include_colab_link": true
    },
    "kernelspec": {
      "name": "python3",
      "display_name": "Python 3"
    },
    "language_info": {
      "name": "python"
    }
  },
  "cells": [
    {
      "cell_type": "markdown",
      "metadata": {
        "id": "view-in-github",
        "colab_type": "text"
      },
      "source": [
        "<a href=\"https://colab.research.google.com/github/gekoramy/uni.deep-learning/blob/yolo/yolo.ipynb\" target=\"_parent\"><img src=\"https://colab.research.google.com/assets/colab-badge.svg\" alt=\"Open In Colab\"/></a>"
      ]
    },
    {
      "cell_type": "markdown",
      "source": [
        "# YOLOv5\n",
        "This example loads a pretrained YOLOv5s model and passes an image for inference. YOLOv5 accepts URL, Filename, PIL, OpenCV, Numpy and PyTorch inputs, and returns detections in torch, pandas, and JSON output formats."
      ],
      "metadata": {
        "id": "luSQgFKGoxaB"
      }
    },
    {
      "cell_type": "markdown",
      "source": [
        "## PIL\n",
        "Numerous applications utilize digital images, and with this, there is normally a need to handle the pictures utilized. Assuming you are building your application with Python and need to add image processing features to it, there are different libraries you can utilize. Some common ones are OpenCV, scikit-picture, Python Imaging Library, and **Pillow** (PIL). The **P**ython **I**maging **L**ibrary adds image processing capacities to your Python code. This library gives broad file format support, an effective internal representation, and fairly strong image-processing capacities. The core library is intended to access information stored in a few pixel formats quickly. It ought to give a strong groundwork to general image processing tools. Pillow supports a range of image file formats."
      ],
      "metadata": {
        "id": "GND4d-kVpnDJ"
      }
    }
  ]
}